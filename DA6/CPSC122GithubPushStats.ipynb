{
 "cells": [
  {
   "cell_type": "markdown",
   "metadata": {},
   "source": [
    "# CPSC 222 DA6 - Detailed Stats Exercises\n",
    "\n",
    "Jonathan Smoley\n",
    "\n",
    "November 16, 2021"
   ]
  },
  {
   "cell_type": "code",
   "execution_count": 239,
   "metadata": {},
   "outputs": [],
   "source": [
    "# Imported Libraries\n",
    "\n",
    "import numpy as np\n",
    "import pandas as pd\n",
    "import matplotlib.pyplot as plt\n",
    "import scipy.stats as stats"
   ]
  },
  {
   "cell_type": "markdown",
   "metadata": {},
   "source": [
    "## Setup\n",
    "\n",
    "An experiment was conducted to collect data on the number of days in advance that students in  \n",
    "CPSC122 sections in the Spring 2020 semester pushed their assignments to Github. S1 is the first  \n",
    "section of CPSC122 and it was used as the *control* group. Conversely, the S2 section was used  \n",
    "as the *experiment* group where a different automated tool was used to provide encouragement in  \n",
    "finishing assignments early."
   ]
  },
  {
   "cell_type": "code",
   "execution_count": 240,
   "metadata": {},
   "outputs": [],
   "source": [
    "# Samples of the number of days students in two sections of CPSC122 pushed early to GitHub\n",
    "S1 = pd.Series([15, 50, 0, 5, 0, 2, 0, 0, 0, 2, 0, 7, 0, 0, 0, 3, 0, 0, 12, 15, 0, 1, 0, 0, 0])\n",
    "S2 = pd.Series([33, 3, 2, 8, 0, 41, 2, 0, 20, 1, 0, 0, 3, 17, 0, 5, 2, 0, 14, 4, 16, 22, 28, 4, 94])"
   ]
  },
  {
   "cell_type": "markdown",
   "metadata": {},
   "source": [
    "### 1. S2 Mid Value\n",
    "\n",
    "To get the middle value of the sample as it is, divide the length of the sample in half and take  \n",
    "the value at that index.\n",
    "\n",
    "number of values = 25\n",
    "\n",
    "$\\frac{25}{2}$ = 12.5 (so take the value at index of 13)\n",
    "\n",
    "```python\n",
    "S2[13] = 3\n",
    "```"
   ]
  },
  {
   "cell_type": "code",
   "execution_count": 241,
   "metadata": {},
   "outputs": [],
   "source": [
    "S1_mid = S1[len(S1)//2]\n",
    "S2_mid = S2[len(S2)//2]"
   ]
  },
  {
   "cell_type": "markdown",
   "metadata": {},
   "source": [
    "### 2. S2 Mean\n",
    "\n",
    "For the mean of a sample the formula is to sum the values in the sample and divide that  \n",
    "summation by the size of the sample.\n",
    "\n",
    "$\\sum_{k=1}^{25} S2_{k}$  \n",
    "33 + 3 + 2 + 8 + 0 + 41 + 2 + 0 + 20 + 1 + 0 + 0 + 3 + 17 + 0 + 5 + 2 + 0 + 14 + 4 + 16 + 22 + 28 + 4 + 94 = 319\n",
    "\n",
    "Each section has 25 students, so divide by 25:\n",
    "\n",
    "$\\frac{sum}{n} = \\overline{X}$\n",
    "\n",
    "$\\frac{319}{25}$ = 12.76"
   ]
  },
  {
   "cell_type": "code",
   "execution_count": 242,
   "metadata": {},
   "outputs": [],
   "source": [
    "# use the numpy library for its mean member function\n",
    "S1_mean = S1.mean()\n",
    "S2_mean = S2.mean()"
   ]
  },
  {
   "cell_type": "markdown",
   "metadata": {},
   "source": [
    "### 3. S2 Median\n",
    "\n",
    "Median of S2 is the middle value once the list is sorted from smallest value to largest value.  \n",
    "With the numpy library a member function can be used to accomplish this.\n",
    "\n",
    "Sorted: 0, 0, 0, 0, 0, 0, 1, 2, 2, 2, 3, 3, 4, 4, 5, 8, 14, 16, 17, 20, 22, 28, 33, 41, 94\n",
    "\n",
    "Middle Value: 4"
   ]
  },
  {
   "cell_type": "code",
   "execution_count": 243,
   "metadata": {},
   "outputs": [],
   "source": [
    "# use the numpy library for its median member function\n",
    "S1_median = S1.median()\n",
    "S2_median = S2.median()"
   ]
  },
  {
   "cell_type": "markdown",
   "metadata": {},
   "source": [
    "### 4. S2 Mode\n",
    "\n",
    "To get the mode of the S2 sample the number of days that occurs most often needs to be found.\n",
    "\n",
    "Therefore, the mode is 0 because it occurs most among the values in the S2 sample.\n",
    "\n",
    "mode = 0"
   ]
  },
  {
   "cell_type": "code",
   "execution_count": 244,
   "metadata": {},
   "outputs": [],
   "source": [
    "# grab the counts of each number of days, take the max of that list\n",
    "S1_mode = np.bincount(S1).argmax()\n",
    "S2_mode = np.bincount(S2).argmax()"
   ]
  },
  {
   "cell_type": "markdown",
   "metadata": {},
   "source": [
    "### 5. S2 Range\n",
    "\n",
    "If the range of the sample is wanted, subtract the smallest value from the largest value.\n",
    "\n",
    "max value in S2: 94\n",
    "min value in S2: 0\n",
    "\n",
    "Range = 94 - 0 = 94\n",
    "\n",
    "Range = 94"
   ]
  },
  {
   "cell_type": "code",
   "execution_count": 245,
   "metadata": {},
   "outputs": [],
   "source": [
    "S1_range = max(S1) - min(S1)\n",
    "S2_range = max(S2) - min(S2)"
   ]
  },
  {
   "cell_type": "markdown",
   "metadata": {},
   "source": [
    "### 6. S2 Quartiles\n",
    "\n",
    "With quartiles, a manual computation for each involves the following:\n",
    "\n",
    "$1^{st} Quartile: \\frac{1}{4}\\times(n+1)^{th} term$\n",
    "\n",
    "$\\frac{1}{4}\\times(25 + 1) = \\frac{1}{4}\\times(26) = 6.5$ (rounded to position 7)\n",
    "\n",
    "7th element: 1\n",
    "\n",
    "$2^{nd} Quartile: \\frac{2}{4}\\times(n+1)^{th} term$ (though this is equivalent to the median)\n",
    "\n",
    "$\\frac{2}{4}\\times(25 + 1) = \\frac{2}{4}\\times(26) = 13$\n",
    "\n",
    "13th element: 4\n",
    "\n",
    "$3^{rd} Quartile: \\frac{3}{4}\\times(n+1)^{th} term$\n",
    "\n",
    "$\\frac{3}{4}\\times(25 + 1) = \\frac{3}{4}\\times(26) = 19.5$ (rounded to position 19)\n",
    "\n",
    "19th element: 17"
   ]
  },
  {
   "cell_type": "code",
   "execution_count": 246,
   "metadata": {},
   "outputs": [],
   "source": [
    "S1_quartile1 = np.quantile(S1, 0.25)\n",
    "S1_quartile2 = np.quantile(S2, 0.5)\n",
    "S1_quartile3 = np.quantile(S1, 0.75)\n",
    "\n",
    "S2_quartile1 = np.quantile(S2, 0.25)\n",
    "S2_quartile2 = np.quantile(S2, 0.5)\n",
    "S2_quartile3 = np.quantile(S2, 0.75)"
   ]
  },
  {
   "cell_type": "markdown",
   "metadata": {},
   "source": [
    "### 7. S2 Variance (sample)\n",
    "\n",
    "Sample variance is calculated by summing the squares of each element minus the mean:\n",
    "\n",
    "$\\sum_{k=1}^{25} (S2[k] - S2_{mean})^{2}$\n",
    "\n",
    "$(33 - 12.76)^{2} + ... + (94 - 12.76)^{2}$ = 403.86"
   ]
  },
  {
   "cell_type": "code",
   "execution_count": 247,
   "metadata": {},
   "outputs": [],
   "source": [
    "S1_var = np.var(S1)\n",
    "S2_var = np.var(S2)"
   ]
  },
  {
   "cell_type": "markdown",
   "metadata": {},
   "source": [
    "### 8. S2 Standard Deviation (sample)\n",
    "\n",
    "Standard Deviation is found by taking the square root of the variance.\n",
    "\n",
    "$\\sqrt{S2_{var}}$ = $\\sqrt{403.86}$ = 20.1"
   ]
  },
  {
   "cell_type": "code",
   "execution_count": 248,
   "metadata": {},
   "outputs": [],
   "source": [
    "S1_stdev = np.std(S1, ddof = 1)\n",
    "S2_stdev = np.std(S2, ddof = 1)"
   ]
  },
  {
   "cell_type": "markdown",
   "metadata": {},
   "source": [
    "### 9. S1 95% confidence interval for population mean\n",
    "\n",
    "The formula for a confidence interval is: $\\overline{x}\\pm z\\frac{s}{\\sqrt{n}}$\n",
    "\n",
    "$\\overline{x} = S1_{mean}$ = 4.48\n",
    "\n",
    "z = 0.95 (given)\n",
    "\n",
    "s = $S1_{stdev}$ = 10.36\n",
    "\n",
    "n = len(S1) = 25\n",
    "\n",
    "$\\overline{4.48}\\pm \\times{0.95} \\times{\\frac{10.36}{\\sqrt{25}}}$ = [2.51, 6.45]"
   ]
  },
  {
   "cell_type": "code",
   "execution_count": 249,
   "metadata": {},
   "outputs": [],
   "source": [
    "# 'moe' stands for 'margin of error'\n",
    "z = 0.95\n",
    "\n",
    "S1_moe_max = S1_mean + (z)*(S1_stdev / np.sqrt(len(S1)))\n",
    "S1_moe_min = S1_mean - (z)*(S1_stdev / np.sqrt(len(S1)))\n"
   ]
  },
  {
   "cell_type": "markdown",
   "metadata": {},
   "source": [
    "### 10. S2 95% confidence interval for population mean\n",
    "\n",
    "This is the same as for the S1, but using the sample from S2.\n",
    "\n",
    "Formula remains: $\\overline{x}\\pm z\\frac{s}{\\sqrt{n}}$\n",
    "\n",
    "$\\overline{x} = S2_{mean}$ = 12.76\n",
    "\n",
    "z = 0.95 (given)\n",
    "\n",
    "s = $S2_{stdev}$ = 20.1\n",
    "\n",
    "n = len(S2) = 25\n",
    "\n",
    "$\\overline{12.76}\\pm \\times{0.95} \\times{\\frac{20.1}{\\sqrt{25}}}$ = [8.94, 16.58]"
   ]
  },
  {
   "cell_type": "code",
   "execution_count": 250,
   "metadata": {},
   "outputs": [],
   "source": [
    "# 'moe' stands for 'margin of error'\n",
    "z = 0.95\n",
    "\n",
    "S2_moe_max = S2_mean + (z)*(S2_stdev / np.sqrt(len(S2)))\n",
    "S2_moe_min = S2_mean - (z)*(S2_stdev / np.sqrt(len(S2)))"
   ]
  },
  {
   "cell_type": "markdown",
   "metadata": {},
   "source": [
    "### 10B. Plot of S1 and S2 Confidence Intervals"
   ]
  },
  {
   "cell_type": "code",
   "execution_count": 251,
   "metadata": {},
   "outputs": [
    {
     "data": {
      "image/png": "[encoded data removed]",
      "text/plain": [
       "<Figure size 432x288 with 1 Axes>"
      ]
     },
     "metadata": {
      "needs_background": "light"
     },
     "output_type": "display_data"
    }
   ],
   "source": [
    "# visualize the margin of error\n",
    "plt.plot([1], [S1_mean], color = 'red', marker = 'o', label = \"S1 Mean\")\n",
    "plt.plot([1, 1], [S1_moe_min, S1_moe_max], color = 'red', label = \"S1 Interval\")\n",
    "\n",
    "plt.plot([2], [S2_mean], color = 'blue', marker = 'o', label = \"S2 Mean\")\n",
    "plt.plot([2, 2], [S2_moe_min, S2_moe_max], color = 'blue', label = \"S2 Interval\")\n",
    "\n",
    "plt.title(\"S1 & S2 Confidence Intervals\")\n",
    "plt.xlim([0, 3])\n",
    "plt.ylim([0, 25])\n",
    "plt.ylabel(\"# of Days\")\n",
    "plt.xticks([1, 2], [\"S1\", \"S2\"])\n",
    "plt.legend(loc = \"upper left\")\n",
    "plt.show()"
   ]
  },
  {
   "cell_type": "markdown",
   "metadata": {},
   "source": [
    "### 11. S2 One-sample, one-tailed t-test of the population mean\n",
    "\n",
    "STEP 1\n",
    "\n",
    "Null Hypothesis  \n",
    "$H_{o}$: $\\mu_{S2}$ > 7 days\n",
    "\n",
    "Alternate Hypothesis  \n",
    "$H_{1}$: $\\mu_{S2}$ <= 7 days\n",
    "\n",
    "STEP 2\n",
    "\n",
    "Level of Significance\n",
    "$\\alpha$ = 0.05\n",
    "\n",
    "STEP 3\n",
    "\n",
    "t = $\\frac{\\overline{X_{S2}} - \\mu_{S2}}{s_{S2} / \\sqrt{n}}$\n",
    "\n",
    "t = $\\frac{\\overline{X_{S2}} - \\mu_{pop}}{S2_stdev / \\sqrt{len(S2)}}$\n",
    "\n",
    "t = $\\frac{12.76 - 8.62}{20.51 / \\sqrt{25}}$\n",
    "\n",
    "t = 1.01\n",
    "\n",
    "STEP 4\n",
    "\n",
    "$\\alpha$ = 0.05  \n",
    "This is a one-tailed Test  \n",
    "df (degrees of freedom) = n - 1 = 25 - 1 = 24\n",
    "\n",
    "t-table value for t-critical: t-critical = 1.711\n",
    "\n",
    "Decision Rules:\n",
    "* if t-computed <= 1.711, reject $H_{o}$\n",
    "* if t-computed > 1.711, do not reject $H_{o}$\n",
    "\n",
    "STEP 5 (below)\n",
    "\n",
    "Find t-computed, test against t-critical:"
   ]
  },
  {
   "cell_type": "code",
   "execution_count": 252,
   "metadata": {},
   "outputs": [
    {
     "name": "stdout",
     "output_type": "stream",
     "text": [
      "Manual t-computed: 1.0092279070700745\n"
     ]
    }
   ],
   "source": [
    "pop_mean = (sum(S1) + sum(S2)) / (len(S1) + len(S2))\n",
    "pop_stdev = np.std(S1 + S2, ddof = 1)\n",
    "\n",
    "t_comp = (S2_mean - pop_mean) / (S2_stdev / np.sqrt(len(S2)))\n",
    "print(\"Manual t-computed:\", t_comp)"
   ]
  },
  {
   "cell_type": "code",
   "execution_count": 253,
   "metadata": {},
   "outputs": [
    {
     "name": "stdout",
     "output_type": "stream",
     "text": [
      "SciPy t-computed: 1.0092279070700743 \n",
      "SciPy p-value: 0.1614663667529621\n"
     ]
    }
   ],
   "source": [
    "# Check t-computed with SciPy\n",
    "t, p = stats.ttest_1samp(S2, pop_mean)\n",
    "print(\"SciPy t-computed:\", t, \"\\nSciPy p-value:\", p / 2)"
   ]
  },
  {
   "cell_type": "markdown",
   "metadata": {},
   "source": [
    "### Conclusion\n",
    "\n",
    "The t-computed value of about 1.01 is less than the t-critical value of 1.711. With confidence, I can say that  \n",
    "$H_{o}$ should be rejected. For more evidence of this conculsion, the results from manual computations and  \n",
    "SciPy computations were consistent for the resulting t-computed value.\n",
    "\n",
    "Thus, at the significance level of 0.05 S2 students did not push more than 7 total days in advance of the  \n",
    "deadlines for CPSC122 Programming Assignments."
   ]
  },
  {
   "cell_type": "markdown",
   "metadata": {},
   "source": [
    "### 12. S1 & S2 Two-sample, one-tailed t-test of the population means\n",
    "\n",
    "STEP 1\n",
    "\n",
    "$H_{o}: \\mu_{S2} > \\mu_{S1}$\n",
    "\n",
    "$H_{1}: \\mu_{S2} <= \\mu_{S1}$\n",
    "\n",
    "STEP 2\n",
    "\n",
    "$\\alpha$ = 0.05\n",
    "\n",
    "STEP 3\n",
    "\n",
    "I aligned $X_{1}$ with S2 because it was the section that underwent experimentation with the automated software tool.  \n",
    "I aligned $X_{2}$ with S1 for the opposite reason.\n",
    "\n",
    "t = $\\frac{\\overline{X_{1}} - \\overline{X_{2}}}{\\sqrt{S_{p}^{2}\\times(\\frac{1}{n_{1}} + \\frac{1}{n_{2}})}}$\n",
    "\n",
    "t = $\\frac{\\overline{X_{S2}} - \\overline{X_{S1}}}{\\sqrt{S1_{stdev}^{2}\\times(\\frac{1}{25} + \\frac{1}{25})}}$\n",
    "\n",
    "t = $\\frac{12.76 - 4.48}{\\sqrt{22.35^{2}\\times(\\frac{1}{25} + \\frac{1}{25})}}$ = 1.79\n",
    "\n",
    "STEP 4\n",
    "\n",
    "$\\alpha$ = 0.05  \n",
    "one-tailed t-test  \n",
    "degrees of freedom (df) = n - 1 = 25 - 1 = 24  \n",
    "t-critical = 1.711\n",
    "\n",
    "Decision Rules:\n",
    "* if t-computed <= t-critical (1.711), reject $H_{o}$\n",
    "* if t-computed > t-critical (1.711), do not reject $H_{o}$\n",
    "\n",
    "STEP 5 (below)\n",
    "\n",
    "Find a t-computed value & test it against the decision rules"
   ]
  },
  {
   "cell_type": "code",
   "execution_count": 254,
   "metadata": {},
   "outputs": [
    {
     "name": "stdout",
     "output_type": "stream",
     "text": [
      "Manual t-computed: 1.794018604733852\n"
     ]
    }
   ],
   "source": [
    "t_comp = (S2_mean - S1_mean) / np.sqrt(((pow(S2_stdev, 2) / len(S2)) + (pow(S1_stdev, 2) / len(S1))))\n",
    "print(\"Manual t-computed:\", t_comp)"
   ]
  },
  {
   "cell_type": "code",
   "execution_count": 255,
   "metadata": {},
   "outputs": [
    {
     "name": "stdout",
     "output_type": "stream",
     "text": [
      "SciPy t-computed: 1.794018604733852 \n",
      "SciPy p-value: 0.08123187256401455\n"
     ]
    }
   ],
   "source": [
    "# Check t-computed with SciPy\n",
    "t, p = stats.ttest_ind(S2, S1, equal_var = False)\n",
    "print(\"SciPy t-computed:\", t, \"\\nSciPy p-value:\", p)"
   ]
  },
  {
   "cell_type": "markdown",
   "metadata": {},
   "source": [
    "### Conclusion\n",
    "\n",
    "The t-computed value of about 1.79 is greater than the t-critical value of 1.711. With confidence, I can say  \n",
    "do not reject $H_{o}$. For more evidence of this conculsion, the results from manual computations and  \n",
    "SciPy computations were consistent for the resulting t-computed value.\n",
    "\n",
    "Thus, at the significance level of 0.05 S2 students did push final commits earlier on average than S1 students."
   ]
  }
 ],
 "metadata": {
  "interpreter": {
   "hash": "6e6da3dde3f72c1ff8478d1ad73eae21078da84a9a569ad97d4c0d3e3188d9c9"
  },
  "kernelspec": {
   "display_name": "Python 3.8.8 64-bit ('base': conda)",
   "language": "python",
   "name": "python3"
  },
  "language_info": {
   "codemirror_mode": {
    "name": "ipython",
    "version": 3
   },
   "file_extension": ".py",
   "mimetype": "text/x-python",
   "name": "python",
   "nbconvert_exporter": "python",
   "pygments_lexer": "ipython3",
   "version": "3.8.12"
  },
  "orig_nbformat": 4
 },
 "nbformat": 4,
 "nbformat_minor": 2
}
