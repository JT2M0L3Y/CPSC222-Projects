{
 "cells": [
  {
   "cell_type": "markdown",
   "metadata": {},
   "source": [
    "# CPSC222 DA6 - SciPy Hypothesis Testing Exercises\n",
    "\n",
    "Jonathan Smoley\n",
    "\n",
    "November 17, 2021"
   ]
  },
  {
   "cell_type": "markdown",
   "metadata": {},
   "source": [
    "## Imported Libraries   "
   ]
  },
  {
   "cell_type": "code",
   "execution_count": 86,
   "metadata": {},
   "outputs": [],
   "source": [
    "import numpy as np\n",
    "import pandas as pd\n",
    "import scipy.stats as stats\n",
    "import matplotlib.pyplot as plt"
   ]
  },
  {
   "cell_type": "markdown",
   "metadata": {},
   "source": [
    "## 1. Inpatient Rehabilitation Exercise\n",
    "\n",
    "Problem:  \n",
    "I want to know who has the greatest age for a stroke, men or women?\n",
    "\n",
    "Data:  \n",
    "The dataset used has been cleaned so that the RIC's are categorical rather than continuous values. In addition, this  \n",
    "data was used in DA5 for CPSC222 and contains the following attributes: ID, Gender, Age, Marital Status, RIC, and  \n",
    "Admission/Discharge FIM Scores.\n",
    "\n",
    "What Hypothesis Test To Use:  \n",
    "The samples that will be compared are drawn from the one population. Testing if one mean is greater than the other  \n",
    "means that a one-tailed test should be used. Finally, the sets do no rely on each other for results so they are independent.  \n",
    "Therefore, in this data set I will use the one-sample, one-tailed, independent t-test."
   ]
  },
  {
   "cell_type": "markdown",
   "metadata": {},
   "source": [
    "STEP 1\n",
    "\n",
    "$H_{o} = \\mu_{women\\ stroke\\ age} > \\mu_{men\\ stroke\\ age}$ \n",
    "\n",
    "$H_{1} = \\mu_{women\\ stroke\\ age} <= \\mu_{men\\ stroke\\ age}$\n",
    "\n",
    "STEP 2\n",
    "\n",
    "$\\alpha$ = 0.01\n",
    "\n",
    "STEP 3\n",
    "\n",
    "$t = \\frac{\\overline{X_{1}} - \\mu}{S / \\sqrt{n}}$\n",
    "\n",
    "STEP 4\n",
    "\n",
    "two-tailed test  \n",
    "$\\alpha$ = 0.01  \n",
    "df_ = 4555 - 1 = 4554\n",
    "\n",
    "T-table values according to $\\alpha$, type of test, and df  \n",
    "t-critical = 2.3272\n",
    "\n",
    "Decision Rules:\n",
    "* if t-computed <= t-critical, reject $H_{o}$\n",
    "* if t-computed > t-critical, do not reject $H_{o}$\n",
    "\n",
    "STEP 5\n",
    "\n",
    "compute t-computed  \n",
    "make decision on hypothesis given t-copmuted\n",
    "\n",
    "To get the average age to have a stroke for men and women in this dataset, I need to first read in the data from the patient_data_cleaned.csv.  \n",
    "Then, I can parse for the *Stroke* RIC type. Afterwards I need to group the resulting dataset by the male and female genders. Finally, I can take  \n",
    "the mean of the data split by gender and grab the age column that results from this search.\n",
    "\n",
    "Find size of the samples by parsing for the stroke RIC and sorting by each gender.\n",
    "* n_male = 607 (number of male stroke patients that had a stroke)\n",
    "* n_female = 562 (number of female stroke patients that had a stroke)"
   ]
  },
  {
   "cell_type": "code",
   "execution_count": 87,
   "metadata": {},
   "outputs": [
    {
     "name": "stdout",
     "output_type": "stream",
     "text": [
      "t-computed: 3.0138\n"
     ]
    }
   ],
   "source": [
    "patient_data_df = pd.read_csv(\"patient_data_cleaned.csv\")\n",
    "\n",
    "grouped_by_ric = patient_data_df.groupby('RIC')\n",
    "\n",
    "stroke_instances = grouped_by_ric.get_group('Stroke')\n",
    "\n",
    "grouped_by_gender = stroke_instances.groupby('Gender')\n",
    "\n",
    "male_data = grouped_by_gender.get_group('M')['Age']\n",
    "female_data = grouped_by_gender.get_group('F')['Age']\n",
    "\n",
    "t, p = stats.ttest_ind(female_data, male_data, equal_var = False)\n",
    "\n",
    "print(\"t-computed:\", round(t, 4))"
   ]
  },
  {
   "cell_type": "markdown",
   "metadata": {},
   "source": [
    "## Conclusion\n",
    "\n",
    "T-computed came out to be 3.0138. Because t-computed (3.0138) > t-critical (2.3272), the deicision is to not reject $H_{o}$.\n",
    "\n",
    "Therefore, the hypothesis that the average stroke age for women is greater than the average stroke age for men cannot be rejected."
   ]
  },
  {
   "cell_type": "markdown",
   "metadata": {},
   "source": [
    "## 2. Piazza Student Activity Exercise\n",
    "\n",
    "Problem:  \n",
    "I want to see if there is a difference between the amount of posts to piazza by a CPSC222 class versus a CPSC315 class.\n",
    "\n",
    "Data:  \n",
    "The data files are in JSON format and contain attributes of days, posts, asks, answers, and views. There are two samples  \n",
    "to draw data from; the 222 class data and the 315 class data.\n",
    "\n",
    "What Hypothesis Test To Use:  \n",
    "I will use a two-sample, one-tailed, independent t-test to conduct hypothesis testing with these datasets. Two-sample  \n",
    "because there datasets from two populations to compare. One-tailed because the results needs to be greater than or less  \n",
    "than due to strictly comparing a difference between posts in each class."
   ]
  },
  {
   "cell_type": "markdown",
   "metadata": {},
   "source": [
    "STEP 1\n",
    "\n",
    "$H_{o} = \\mu_{222} \\neq (also\\ known\\ as > or <) \\mu_{315}$ (difference, one is larger than the other)\n",
    "\n",
    "$H_{1} = \\mu_{222} = \\mu_{315}$ (no difference)\n",
    "\n",
    "STEP 2\n",
    "\n",
    "$\\alpha$ = 0.01\n",
    "\n",
    "STEP 3\n",
    "\n",
    "Independent, two-sample, one-tailed t-test formula:  \n",
    "$t = \\frac{\\overline{X_{1}} - \\overline{X_{2}}}{\\sqrt{S_{p}^{2}\\times(\\frac{1}{n_{1}} + \\frac{1}{n_{2}})}}$\n",
    "\n",
    "STEP 4\n",
    "\n",
    "two-tailed test  \n",
    "$\\alpha$ = 0.01  \n",
    "$n_{1} = n_{222} = 27$  \n",
    "$n_{2} = n_{315} = 62$  \n",
    "$df = n_{1} + n_{2} - 2 = n_{222} + n_{315} - 2 = 27 + 62 - 2 = 87$\n",
    "\n",
    "T-table values according to $\\alpha$, type of test, and df  \n",
    "t-critical = 2.37\n",
    "\n",
    "Decision Rules:\n",
    "* if t-computed = t-critical, reject $H_{o}$\n",
    "* if t-computed > or < t-critical, do not reject $H_{o}$\n",
    "\n",
    "STEP 5\n",
    "\n",
    "compute t-computed  \n",
    "make decision on hypothesis given t-copmuted\n",
    "\n"
   ]
  },
  {
   "cell_type": "code",
   "execution_count": 88,
   "metadata": {},
   "outputs": [
    {
     "name": "stdout",
     "output_type": "stream",
     "text": [
      "t-computed: 1.8452\n"
     ]
    }
   ],
   "source": [
    "piazza_222_df = pd.read_json(\"piazza_222_users.json\")\n",
    "piazza_315_df = pd.read_json(\"piazza_315_users.json\")\n",
    "\n",
    "posts_222 = piazza_222_df['posts']\n",
    "posts_315 = piazza_315_df['posts']\n",
    "\n",
    "t, p = stats.ttest_ind(posts_315, posts_222, equal_var = False)\n",
    "\n",
    "print(\"t-computed:\", round(t, 4))"
   ]
  },
  {
   "cell_type": "markdown",
   "metadata": {},
   "source": [
    "## Conclusion\n",
    "\n",
    "T-computed came out to be less than t-critical, also know as not equal to t-critical.\n",
    "\n",
    "Thus, the decision is to reject $H_{o}$ that there is no difference in the amount of posts  \n",
    "between 222 students and 315 students."
   ]
  },
  {
   "cell_type": "markdown",
   "metadata": {},
   "source": [
    "## 3. IQ1 Quiz Duration Exercise\n",
    "\n",
    "Problem:  \n",
    "I want to know which out of two classes had a greater average time to complete IQ1 in that  \n",
    "respective class.\n",
    "\n",
    "Data:  \n",
    "There is a fractional amount of hours accounting for the time each student in 222 and in  \n",
    "315 took to complete IQ1. Also, there is an attribute for whether the student took the quiz  \n",
    "in-person or online. This is what the comparison will be drawn between.\n",
    "\n",
    "What Hypothesis Test To Use:  \n",
    "Because the data needed is split into two samples, a two-sample t-test should be used. There  \n",
    "are two samples drawn from the same population that do not affect one another, thus an  \n",
    "independent t-test in needed. Finally, the hypothesis is testing for values that are greater  \n",
    "than one specific point in the measurement scale so this is a one-tailed t-test as well. Thus,  \n",
    "I will use the independent, two-sample, one-tailed t-test to test this hypothesis."
   ]
  },
  {
   "cell_type": "markdown",
   "metadata": {},
   "source": [
    "STEP 1\n",
    "\n",
    "$H_{o} = \\mu_{remote} > \\mu_{in-person}$  \n",
    "\n",
    "$H_{1} = \\mu_{remote} <= \\mu_{in-person}$\n",
    "\n",
    "STEP 2\n",
    "\n",
    "$\\alpha$ = 0.005\n",
    "\n",
    "STEP 3\n",
    "\n",
    "$t = \\frac{\\overline{X_{1}} - \\overline{X_{2}}}{\\sqrt{S_{p}^{2}\\times(\\frac{1}{n_{1}} + \\frac{1}{n_{2}})}}$\n",
    "\n",
    "STEP 4\n",
    "\n",
    "one-tailed  \n",
    "$\\alpha$ = 0.005  \n",
    "n = 94  \n",
    "df = $n_{1} + n_{2}$ - 2 = 48 + 46 - 2 = 92\n",
    "\n",
    "reference a t-table to find t-critical:  \n",
    "t-critical = 2.6303\n",
    "\n",
    "Decision Rules:\n",
    "* if t-computed < t-critical, reject $H_{o}$\n",
    "* if t-computed >= t-critical, do not reject $H_{o}$\n",
    "\n",
    "STEP 5\n",
    "\n",
    "compute t-computed  \n",
    "test against decision rules to take decision"
   ]
  },
  {
   "cell_type": "code",
   "execution_count": 89,
   "metadata": {},
   "outputs": [
    {
     "name": "stdout",
     "output_type": "stream",
     "text": [
      "t-computed: 4.1463\n"
     ]
    }
   ],
   "source": [
    "IQ1_quiz_durations_df = pd.read_csv(\"IQ1_quiz_durations.csv\")\n",
    "\n",
    "grouped_by_loc = IQ1_quiz_durations_df.groupby('In-person')\n",
    "\n",
    "remote_data = grouped_by_loc.get_group(0)\n",
    "remote_mean = remote_data['Hours Start to Finish'].mean()\n",
    "remote_std = remote_data['Hours Start to Finish'].std()\n",
    "\n",
    "live_data = grouped_by_loc.get_group(1)\n",
    "live_mean = live_data['Hours Start to Finish'].mean()\n",
    "live_std = live_data['Hours Start to Finish'].std()\n",
    "\n",
    "t_computed = (remote_mean - live_mean) / np.sqrt((remote_std ** 2 / len(remote_data)) + (live_std ** 2 / len(live_data)))\n",
    "\n",
    "print(\"t-computed:\", round(t_computed, 4))"
   ]
  },
  {
   "cell_type": "markdown",
   "metadata": {},
   "source": [
    "## Conclusion\n",
    "\n",
    "T-computed came out to be greater than t-critical (4.1463 > 2.6303). Following the decision rules,  \n",
    "the decision is to not reject $H_{o}$.\n",
    "\n",
    "By not rejecting $H_{o}$, I am claiming that the average duration to take IQ1 was greater for  \n",
    "the students that took IQ1 remote in comparison to the students that took IQ1 in-person."
   ]
  },
  {
   "cell_type": "markdown",
   "metadata": {},
   "source": [
    "## 4. Circuit Trial Exercise\n",
    "\n",
    "Problem:  \n",
    "During a circuit trial period, each subject completed the same task two times with a week  \n",
    "between completions. The subjects received physical therapy in between the two tasks.    \n",
    "I want to test to see if there was a difference in duration for completions among those who  \n",
    "received therapy and those who did not.\n",
    "\n",
    "Data:  \n",
    "The data set contains attributes for a participant's ID, their trial ID, and the time taken  \n",
    "to complete the circuit (given in seconds).\n",
    "\n",
    "What Hypothesis Test To Use:  \n",
    "First off, this will be a dependent test as the second sample contains a modified version of  \n",
    "the data in the first sample (a condition was added to some of the instances). This will also  \n",
    "be a two-sample test given that there is a comparison between two different samples taken  \n",
    "from the population of data. Lastly, this will be a one-tailed test because the hypothesis requires  \n",
    "only a one-sided result to affirm its claim."
   ]
  },
  {
   "cell_type": "markdown",
   "metadata": {},
   "source": [
    "STEP 1\n",
    "\n",
    "$H_{o} = \\mu_{B-Duration} < \\mu_{A-Duration}$\n",
    "\n",
    "$H_{1} = \\mu_{B-Duration} >= \\mu_{A-Duration}$\n",
    "\n",
    "STEP 2\n",
    "\n",
    "$\\alpha$ = 0.01\n",
    "\n",
    "STEP 3\n",
    "\n",
    "$t = \\frac{\\overline{d} - \\mu_{d}}{S_{\\overline{d}}}$\n",
    "\n",
    "STEP 4\n",
    "\n",
    "one-tailed  \n",
    "$\\alpha$ = 0.01   \n",
    "$n_{A} = n_{B}$ = 27  \n",
    "df = 27 + 27 - 2 = 52  \n",
    "\n",
    "t-table value for t-critical using $\\alpha$, one-tailed, and df:  \n",
    "t-critical = 2.4002\n",
    "\n",
    "Decision Rules:\n",
    "* if t-computed >= t-critical (2.4002), reject $H_{o}$\n",
    "* if t-computed < t-critical (2.4002), do not reject $H_{o}$\n",
    "\n",
    "STEP 5\n",
    "\n",
    "compute t-computed  \n",
    "make decision by applying t-computed to decision rules"
   ]
  },
  {
   "cell_type": "code",
   "execution_count": 90,
   "metadata": {},
   "outputs": [
    {
     "name": "stdout",
     "output_type": "stream",
     "text": [
      "t-computed: 3.3367\n"
     ]
    }
   ],
   "source": [
    "circuit_df = pd.read_csv(\"circuit_trials.csv\")\n",
    "\n",
    "grouped_by_trial = circuit_df.groupby('Trial ID')\n",
    "\n",
    "a_data = grouped_by_trial.get_group('A')['Duration']\n",
    "b_data = grouped_by_trial.get_group('B')['Duration']\n",
    "\n",
    "t, p = stats.ttest_rel(a_data, b_data)\n",
    "\n",
    "print(\"t-computed:\", round(t, 4))"
   ]
  },
  {
   "cell_type": "markdown",
   "metadata": {},
   "source": [
    "## Conclusion\n",
    "\n",
    "Due to a t-computed of 3.3367, $H_{o}$ will be rejected because 3.3367 >= 2.4002.\n",
    "\n",
    "This means that the average time taken to complete the circuit after physical therapy (B)  \n",
    "was not less than the average time taken to complete the circuit before phyical therapy (A)."
   ]
  },
  {
   "cell_type": "markdown",
   "metadata": {},
   "source": [
    "## 5. GU Website Data Exercise\n",
    "\n",
    "I have a dataset of the visits to the GU website between January 2018 and October 2021. The dataset  \n",
    "consists of attributes for the date, the number of new visitors, and the number of returning visitors.  \n",
    "I want to know which weeks of the 2020-2021 school year did the average new visitors outnumber the  \n",
    "average returning visitors. My hypothesis is that during the time of march madness the GU website  \n",
    "received, on average, a greater number of new visitors than returning visitors."
   ]
  },
  {
   "cell_type": "markdown",
   "metadata": {},
   "source": [
    "First, I want to read the data in from the .csv containing my dataset. However, I also want to  \n",
    "slice between the dates that March Madness began and ended. Those dates are March 18th, 2021  \n",
    "and April 5th, 2021."
   ]
  },
  {
   "cell_type": "code",
   "execution_count": 91,
   "metadata": {},
   "outputs": [
    {
     "name": "stdout",
     "output_type": "stream",
     "text": [
      "            Date  New Visitor  Returning Visitor\n",
      "1165  2021-03-11         5970               6943\n",
      "1166  2021-03-12         4884               4659\n",
      "1167  2021-03-13         3931               2884\n",
      "1168  2021-03-14         6643               3633\n",
      "1169  2021-03-15         8588               6889\n",
      "1170  2021-03-16         6911               6483\n",
      "1171  2021-03-17         8809               6501\n",
      "1172  2021-03-18        10385               6967\n",
      "1173  2021-03-19        10660               5355\n",
      "1174  2021-03-20        19771               4199\n",
      "1175  2021-03-21         9814               5125\n",
      "1176  2021-03-22        26218               8590\n",
      "1177  2021-03-23        10995               7865\n",
      "1178  2021-03-24         8641               7034\n",
      "1179  2021-03-25         6778               6514\n",
      "1180  2021-03-26         7307               5545\n",
      "1181  2021-03-27         9431               3746\n",
      "1182  2021-03-28        40412               7468\n",
      "1183  2021-03-29        12928               8603\n",
      "1184  2021-03-30        51997              12294\n",
      "1185  2021-03-31        20198              10483\n",
      "1186  2021-04-01        11637               7695\n",
      "1187  2021-04-02        10481               4677\n",
      "1188  2021-04-03       111619               9206\n",
      "1189  2021-04-04        52404              13099\n",
      "1190  2021-04-05       117050              13330\n",
      "1191  2021-04-06        32176              14730\n",
      "1192  2021-04-07         9688               8861\n",
      "1193  2021-04-08         6599               7500\n",
      "1194  2021-04-09         5804               6311\n",
      "1195  2021-04-10         4703               6745\n"
     ]
    }
   ],
   "source": [
    "GU_website_df = pd.read_csv(\"GU_website_daily_vistors_2018-2021.csv\")\n",
    "\n",
    "# March Madness 2021 lasted from the week of March 11th, 2021 to the \n",
    "# week of April 10th, 2021.\n",
    "for day in range(len(GU_website_df)):\n",
    "    if '2021-03-11' in GU_website_df['Date'][day]:\n",
    "        i = day\n",
    "    if '2021-04-10' in GU_website_df['Date'][day]:\n",
    "        j = day\n",
    "\n",
    "march_madness_data = GU_website_df[i:j+1]\n",
    "\n",
    "print(march_madness_data)"
   ]
  },
  {
   "cell_type": "markdown",
   "metadata": {},
   "source": [
    "Now I would gather the means and standard deviations for the new visitors attribute and the  \n",
    "returning visitors attribute within the sliced period of the population provided by the dataset.\n",
    "\n",
    "Because there are member functions for these tasks, I can call the data generated above directly  \n",
    "into those functions."
   ]
  },
  {
   "cell_type": "code",
   "execution_count": 112,
   "metadata": {},
   "outputs": [],
   "source": [
    "new_mean = np.mean(march_madness_data['New Visitor'])\n",
    "returning_mean = np.mean(march_madness_data['Returning Visitor'])\n",
    "\n",
    "new_std = np.std(march_madness_data['New Visitor'])\n",
    "returning_std = np.std(march_madness_data['Returning Visitor'])\n",
    "\n",
    "new_range = [np.max(march_madness_data['New Visitor']), np.min(march_madness_data['New Visitor'])]\n",
    "returning_range = [np.max(march_madness_data['Returning Visitor']), np.min(march_madness_data['Returning Visitor'])]"
   ]
  },
  {
   "cell_type": "markdown",
   "metadata": {},
   "source": [
    "Following these computations, I will better visualize the findings by plotting them in  \n",
    "a standard plot format using matplotlib.pyplot."
   ]
  },
  {
   "cell_type": "code",
   "execution_count": 117,
   "metadata": {},
   "outputs": [
    {
     "data": {
      "image/png": "[encoded data removed]",
      "text/plain": [
       "<Figure size 432x288 with 1 Axes>"
      ]
     },
     "metadata": {
      "needs_background": "light"
     },
     "output_type": "display_data"
    }
   ],
   "source": [
    "plt.plot([1, 1], new_range, color = 'r', label = 'New Visits')\n",
    "plt.plot([2, 2], returning_range, color = 'b', label = 'Returning Visits')\n",
    "plt.plot([1], new_mean, marker = 'o', color = 'r', label = 'Mean New')\n",
    "plt.plot([2], returning_mean, marker = 'o', color = 'b', label = 'Mean Returning')\n",
    "plt.xticks([0, 1, 2, 3], [\"\", \"New Visits\", \"Returning Visits\", \"\"])\n",
    "plt.title(\"GU Website Visits - March Madness 2021\")\n",
    "plt.xlabel(\"Visitor Type\")\n",
    "plt.ylabel(\"Visit Amounts\")\n",
    "plt.legend()\n",
    "plt.show()"
   ]
  },
  {
   "cell_type": "markdown",
   "metadata": {},
   "source": [
    "Following these computations, I will visualize the range of visits during March Madness  \n",
    "using the standard maplotlib.pyplot plot() to graph a range of values and their mean."
   ]
  },
  {
   "cell_type": "markdown",
   "metadata": {},
   "source": [
    "Next I would like to test my hypothesis with a t-test. First, I will test it manually with  \n",
    "the formula for a t-test that is two-sample, one-tailed, and independent. Afterwards, I will  \n",
    "check my work using SciPy. I am using a level of significance of 0.05 and, because my sample  \n",
    "has 30 values, my degrees of freedom are 29 (n - 1). These value will be useful in determining  \n",
    "t-critical for my Decision Rules.\n",
    "\n",
    "$H_{o} = \\mu_{new} > \\mu_{returning}$\n",
    "\n",
    "$H_{1} = \\mu_{new} <= \\mu_{returning}$\n",
    "\n",
    "$\\alpha = 0.05$\n",
    "\n",
    "To compute t-computed, I will need to use the formula for a two-sample, one-tailed t-test.\n",
    "\n",
    "$t = \\frac{\\overline{x}_{1} - \\overline{x}_{2}}{\\sqrt{S_{p}^{2}\\times(\\frac{1}{n_{1}} + \\frac{1}{n_{2}})}}$\n",
    "\n",
    "df = n - 1 = 30 - 1 = 29\n",
    "\n",
    "from a t-table: t-critical = 1.6991\n",
    "\n",
    "Decision Rules:\n",
    "* if t-computed <= t-critical (1.6991), then I will reject $H_{o}$\n",
    "* if t-computed > t-critical (1.6991), then I will not reject $H_{o}$"
   ]
  },
  {
   "cell_type": "code",
   "execution_count": 119,
   "metadata": {},
   "outputs": [
    {
     "name": "stdout",
     "output_type": "stream",
     "text": [
      "t-computed manually: 2.7411\n",
      "t-computed w/ SciPy: 2.6965\n"
     ]
    }
   ],
   "source": [
    "t_computed = (new_mean - returning_mean) / np.sqrt((new_std ** 2 / len(march_madness_data)) + (returning_std ** 2 / len(march_madness_data)))\n",
    "print(\"t-computed manually:\", round(t_computed, 4))\n",
    "\n",
    "t, p = stats.ttest_ind(march_madness_data['New Visitor'], march_madness_data['Returning Visitor'], equal_var = False)\n",
    "\n",
    "print(\"t-computed w/ SciPy:\", round(t, 4))"
   ]
  },
  {
   "cell_type": "markdown",
   "metadata": {},
   "source": [
    "## Conclusion\n",
    "\n",
    "While I recognize that my t-computed manually and t-computed through SciPy do not align,  \n",
    "the more important consideration is that either one is greater than t-critical. Thus, my decision  \n",
    "is to no reject $H_{o}$ which states that the mean number of new visits to the GU website during  \n",
    "March Madness outnumbers the mean number of returning visits in the same period."
   ]
  }
 ],
 "metadata": {
  "interpreter": {
   "hash": "6e6da3dde3f72c1ff8478d1ad73eae21078da84a9a569ad97d4c0d3e3188d9c9"
  },
  "kernelspec": {
   "display_name": "Python 3.8.8 64-bit ('base': conda)",
   "language": "python",
   "name": "python3"
  },
  "language_info": {
   "codemirror_mode": {
    "name": "ipython",
    "version": 3
   },
   "file_extension": ".py",
   "mimetype": "text/x-python",
   "name": "python",
   "nbconvert_exporter": "python",
   "pygments_lexer": "ipython3",
   "version": "3.8.8"
  },
  "orig_nbformat": 4
 },
 "nbformat": 4,
 "nbformat_minor": 2
}
