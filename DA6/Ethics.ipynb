{
 "cells": [
  {
   "cell_type": "markdown",
   "metadata": {},
   "source": [
    "# CPSC 222 DA6 - Data Ethics\n",
    "\n",
    "Jonathan Smoley\n",
    "\n",
    "November 8, 2021\n",
    "\n",
    "These questions were pulled directly from the  \n",
    "Data Ethics Section of Professor Gina Sprint's  \n",
    "DA6 Notebook."
   ]
  },
  {
   "cell_type": "markdown",
   "metadata": {},
   "source": [
    "## Question 1\n",
    "\n",
    ">Do you believe Facebook should have provided users with an option to opt-out of its news feed study? Why or why not?"
   ]
  },
  {
   "cell_type": "markdown",
   "metadata": {},
   "source": [
    "## Answer 1\n",
    "\n",
    "I have a mixed opinion on the opt-in/opt-out discussion with this news feed study. For, I believe  \n",
    "Facebook should have asked users if they had wanted to opt-out because this action edges on a breach  \n",
    "of privacy from my point as a user. However, as a Novice Data Scientist, providing this option may  \n",
    "decrease the spread of the dataset. That is, how much data is collected; meaning, a less telling  \n",
    "set of visualizations and/or statistics given that a smaller sample of the user population would be  \n",
    "accounted for."
   ]
  },
  {
   "cell_type": "markdown",
   "metadata": {},
   "source": [
    "## Question 2\n",
    "\n",
    ">In the Facebook case study, the author argues the line requiring consent was crossed because \"this experiment tried  \n",
    "to directly sway emotions.\" Now, think of a different \"news feed\" you regularly use (besides Facebook). This could  \n",
    "be another social media site, or it could something else, like a news source like Google News or Gonzaga's Morning  \n",
    "Mail. Describe a general \"line\" that you would consider crossed if this \"news feed\" starting running experiments on  \n",
    "you that you would want to be able to opt-out of."
   ]
  },
  {
   "cell_type": "markdown",
   "metadata": {},
   "source": [
    "## Answer 2\n",
    "\n",
    "While this is unrelated it does provide context for my answer. In my communications course we covered the concept of  \n",
    "an enclaved public. This is a community where the shared ideas of members are supported and affirmed. Where other views  \n",
    "are not accepted and actively pushed away by the fear of losing a following or being shut down for one's beliefs. If any  \n",
    "major new source like CNN, Fox News, NBC, ABC, etc... began screening viewers to find only those that share their own  \n",
    "political beliefs, this would clearly be crossing the line. They would be forming an enclaved public to push a given  \n",
    "agenda without any pushback from viewers. If this was put into place, I would definitely want to have the option to  \n",
    "opt-out. It would not matter which news source out of those listed, I would want a rounded report of breaking stories.  \n",
    "That which could not be gained with a source where the political screening line is crossed."
   ]
  },
  {
   "cell_type": "markdown",
   "metadata": {},
   "source": [
    "## Question 3\n",
    "\n",
    ">The statement 1) \"consent is worth adding a little complexity to the product\" reminded me the saying 2) \"increased  \n",
    "security comes at the expense of usability.\" The latter adage (#2) is referring to the effects of digital security  \n",
    "enhancements (like changing our passwords frequently or multi-factor authentication) on users. In both cases (#1 and  \n",
    "#2), there is a compromise between the user and organization providing the software service. The organization wants  \n",
    "to be successful, which I'll note is defined differently at different companies. As users, we want to use certain  \n",
    "software, but sometimes we also \"need\" to use certain software, even if we don't want to. Can you think of a software  \n",
    "example for each adage (#1 and #2) where you \"need\" to use the software, regardless of its complexity, usability, or  \n",
    "invasiveness? Does this affect your likelihood to opt-out of a study if you were given the \"option\"?"
   ]
  },
  {
   "cell_type": "markdown",
   "metadata": {},
   "source": [
    "## Answer 3\n",
    "\n",
    "For the first adage, one of the video games I play through Steam recently implemented an anti-cheat  \n",
    "system that takes an extra step when loading the game up on my computer. This means a longer process  \n",
    "to use the product, and a more complex path to reaching my goal of gaming. Furthermore, this system  \n",
    "has no opt-out or delete option so it is \"needed\" to play the game. This anti-cheat system was requested  \n",
    "by many in the game's fanbase, including myself. As such, those who are in favor are more likely to want  \n",
    "to participate in a study related to the system despite its complexity due to the favor provided for the  \n",
    "product. Lastly, this was a way for the developer to acknowledge the requests of its users and to become  \n",
    "more successful by listening to those requests.\n",
    "\n",
    "For the second adage, the Zagweb software is something requiring excess amounts of security. As  \n",
    "an example, I am required to enter a new password every so often in an attempt to prevent the  \n",
    "current one from being leaked to an unverified user who may mess with my account at Gonzaga. Also,  \n",
    "there is a two-factor authenication system I have turned on at the moment in an interest to increase  \n",
    "the security supposedly promised by the routine password changing going on. While these are costing  \n",
    "me an enjoyable experience with the system, I need to use the software for my role as a student at  \n",
    "Gonzaga. Because of these extra security measures, I would be more likely to opt-out of a study due  \n",
    "the extra features I am already using. This is due to the annoying nature of a system with multiple  \n",
    "security measures."
   ]
  },
  {
   "cell_type": "markdown",
   "metadata": {},
   "source": [
    "## Question 4\n",
    "\n",
    ">What else struck you about this article? Any thoughts on Facebook's recent name change to Meta? For example, what does  \n",
    "\"meta\" mean and why do you think they are changing their name to it?"
   ]
  },
  {
   "cell_type": "markdown",
   "metadata": {},
   "source": [
    "## Answer 4\n",
    "\n",
    "I did not find much else to reflect on other than what is above.\n",
    "\n",
    "After a quick Google Search for the definition(s) of *Meta*, the term could mean something self-referential  \n",
    "(referring to one's self), something beyond the real world, or even something of a higher level. I subscribe  \n",
    "to the **something beyond the real world** defintion as what was formerly `Facebook` delves in digital  \n",
    "environments, allbeit social media or virtual reality. On that note, I find the rebranding to be very clever  \n",
    "despite the societal shaming being pushed onto Big-Tech in present society."
   ]
  }
 ],
 "metadata": {
  "interpreter": {
   "hash": "6e6da3dde3f72c1ff8478d1ad73eae21078da84a9a569ad97d4c0d3e3188d9c9"
  },
  "kernelspec": {
   "display_name": "Python 3.8.8 64-bit ('base': conda)",
   "language": "python",
   "name": "python3"
  },
  "language_info": {
   "name": "python",
   "version": "3.8.8"
  },
  "orig_nbformat": 4
 },
 "nbformat": 4,
 "nbformat_minor": 2
}
