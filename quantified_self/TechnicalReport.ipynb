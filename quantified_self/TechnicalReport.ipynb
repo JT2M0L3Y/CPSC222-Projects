{
 "cells": [
  {
   "cell_type": "markdown",
   "metadata": {},
   "source": [
    "# Quantified Self Project\n",
    "\n",
    "Jonathan Smoley\n",
    "\n",
    "CPSC222, Fall 2021\n",
    "\n",
    "Sources: iPhone Screen Time Setting, [Weather API](https://www.visualcrossing.com/)\n",
    "\n",
    "References: [CPSC222 - U7 Repo](https://github.com/GonzagaCPSC222/U7-Machine-Learning-NLP)"
   ]
  },
  {
   "cell_type": "code",
   "execution_count": 1,
   "metadata": {},
   "outputs": [],
   "source": [
    "# libraries imported \n",
    "import numpy as np\n",
    "import pandas as pd\n",
    "import matplotlib.pyplot as plt\n",
    "import scipy.stats as stats\n",
    "from sklearn.preprocessing import LabelEncoder, MinMaxScaler\n",
    "from sklearn.model_selection import train_test_split\n",
    "from sklearn.metrics import accuracy_score\n",
    "from sklearn.neighbors import KNeighborsClassifier\n",
    "from sklearn.tree import DecisionTreeClassifier"
   ]
  },
  {
   "cell_type": "markdown",
   "metadata": {},
   "source": [
    "## Introduction\n",
    "\n",
    "For this project, the domain is my iPhone. With this domain, I can explore the amount of time I spent out of reality (on my phone) this semester. The iPhone has a setting that tracks the screen time of a given user down to the number of times a user picks up their phone.\n",
    "\n",
    "While my screen time data was collected manually into a .csv file using MS Excel, I also utilized data from the Visual Crossing REST API for weather data. I had originally planned to make a direct request for data within this report. However, Visual Crossing was in the process of updating their UI so I found it easier to download another .csv from the API webpage. Instead of manually combining both tables into a single dataset, I decided to read in each table individually, combine them into a pandas DataFrame, and then write said DataFrame to a new .csv file that would not be read in again for access. \n",
    "\n",
    "This dataset has many more attributes than I plan to use as I recorded virtually everything I could find on my screen time data and the API has no setting to limit the attributes I receive. Thus, I have about 30 attributes including max/min/mean temperatures, weather conditions, app usage times, apps used, notification counts, etc.  \n",
    "\n",
    "I am attempting to classify how much time I spent on my phone given the temperature and weather conditions for a given day. This classification could result in my taking a step to change my iPhone usage habits. Beyond personal applications, this classification could be used by others iPhone users to find what they need to do to decrease, or even increase, their screen time habits."
   ]
  },
  {
   "cell_type": "code",
   "execution_count": 2,
   "metadata": {},
   "outputs": [],
   "source": [
    "# loading data\n",
    "\n",
    "# read manually collected data\n",
    "screen_time_df = pd.read_csv('screen_time.csv')\n",
    "\n",
    "# read data from API (requested in form of csv file)\n",
    "weather_df = pd.read_csv('weather_data.csv')"
   ]
  },
  {
   "cell_type": "markdown",
   "metadata": {},
   "source": [
    "## Data Analysis\n",
    "\n",
    "### Data Cleaning/Preparation\n",
    "\n",
    "I want to combine the two tables on the date as I requested and collected data for the same range of days during this semester. \n",
    "\n",
    "With the weather API date data belonging to an attribute named *Date time*, I cut this back to just *Date* as that is the corresponding attribute name in my screen time table. \n",
    "\n",
    "Within this dataset there is a mixture of continuous and categorical data so in order to classify items, label encoding may need to be done. \n",
    "\n",
    "Since any case of missing data came from the API source and likely means no data was recorded for that day, I drop columns with a large amount of missing instances and replace any other missing values with 0. \n",
    "\n",
    "Finally, I set the index to the date as it is the same for both tables."
   ]
  },
  {
   "cell_type": "code",
   "execution_count": 3,
   "metadata": {},
   "outputs": [
    {
     "name": "stdout",
     "output_type": "stream",
     "text": [
      "                                  Name  Maximum Temperature  \\\n",
      "Date                                                          \n",
      "10/03/2021  Spokane, WA, United States                 70.8   \n",
      "10/04/2021  Spokane, WA, United States                 69.6   \n",
      "10/05/2021  Spokane, WA, United States                 74.1   \n",
      "10/06/2021  Spokane, WA, United States                 58.1   \n",
      "10/07/2021  Spokane, WA, United States                 58.3   \n",
      "\n",
      "            Minimum Temperature  Temperature  Wind Chill  Precipitation  Snow  \\\n",
      "Date                                                                            \n",
      "10/03/2021                 43.4         55.4        42.3           0.00   0.0   \n",
      "10/04/2021                 44.1         55.6        42.5           0.00   0.0   \n",
      "10/05/2021                 47.6         60.6         0.0           0.00   0.0   \n",
      "10/06/2021                 42.9         50.9        39.3           0.03   0.0   \n",
      "10/07/2021                 35.5         46.0        34.9           0.00   0.0   \n",
      "\n",
      "            Snow Depth  Wind Speed  Wind Direction  ...  Most Used Category  \\\n",
      "Date                                                ...                       \n",
      "10/03/2021         0.0         8.8          146.96  ...       Entertainment   \n",
      "10/04/2021         0.0         8.1           54.33  ...       Entertainment   \n",
      "10/05/2021         0.0        12.6          163.29  ...       Entertainment   \n",
      "10/06/2021         0.0        17.9          177.79  ...       Entertainment   \n",
      "10/07/2021         0.0         8.8          107.96  ...       Entertainment   \n",
      "\n",
      "            Most Used App  Use Time  First Pickup Total Pickups  First App  \\\n",
      "Date                                                                         \n",
      "10/03/2021        YouTube  4.933333       7:38 AM            67    Discord   \n",
      "10/04/2021        Disney+  7.016667       7:28 AM            48  Instagram   \n",
      "10/05/2021        YouTube  3.583333       6:51 AM            38   Snapchat   \n",
      "10/06/2021        YouTube  4.666667       6:42 AM            51   Snapchat   \n",
      "10/07/2021        YouTube  4.750000       7:17 AM            55  Instagram   \n",
      "\n",
      "            Use Number  Total Notifications  Most Notified App  \\\n",
      "Date                                                             \n",
      "10/03/2021          10                   80          Instagram   \n",
      "10/04/2021          10                   45          Instagram   \n",
      "10/05/2021          15                   38           Snapchat   \n",
      "10/06/2021          23                   64           Snapchat   \n",
      "10/07/2021          20                   55          Instagram   \n",
      "\n",
      "            App Notifications  \n",
      "Date                           \n",
      "10/03/2021                 27  \n",
      "10/04/2021                 16  \n",
      "10/05/2021                 14  \n",
      "10/06/2021                 21  \n",
      "10/07/2021                 25  \n",
      "\n",
      "[5 rows x 30 columns]\n"
     ]
    }
   ],
   "source": [
    "# cleaning data\n",
    "\n",
    "# rename date column to get common attribute names\n",
    "weather_df.rename(columns = {\"Date time\": \"Date\"}, errors = 'raise', inplace = True)\n",
    "\n",
    "# join tables on the date attribute\n",
    "dataset_df = weather_df.join(screen_time_df.set_index('Date'), on = 'Date')\n",
    "\n",
    "# change index to Date column\n",
    "dataset_df.set_index('Date', inplace = True)\n",
    "\n",
    "# manage missing values\n",
    "dataset_df.dropna(how = 'all', axis = 1, inplace = True)\n",
    "dataset_df.fillna(0, inplace = True)\n",
    "\n",
    "print(dataset_df.head(5))"
   ]
  },
  {
   "cell_type": "markdown",
   "metadata": {},
   "source": [
    "### Data Visualization\n",
    "\n",
    "In the interest of making my data more understandable, I need to visualize a few things. \n",
    "\n",
    "First, I want to visualize how to change in outside temperature had an effect on the amount of time I spent on my phone each day. I believe a scatter plot is most fitting for this situation. \n",
    "\n",
    "Also, the different apps I tend to use most often need to be looked at so, using a bar chart, I can visualize the most common apps and the number of times I used them this semester. \n",
    "\n",
    "Finally, I think visualizing the notification data is beneficial as this data is used in my second Hypothesis Test. I am using a regular plot with date as x and notification count as y because I find it important to show the change in notification count, something a bar chart might not visualize the best."
   ]
  },
  {
   "cell_type": "code",
   "execution_count": 4,
   "metadata": {},
   "outputs": [
    {
     "data": {
      "image/png": "[encoded data removed]",
      "text/plain": [
       "<Figure size 432x288 with 1 Axes>"
      ]
     },
     "metadata": {
      "needs_background": "light"
     },
     "output_type": "display_data"
    },
    {
     "data": {
      "image/png": "[encoded data removed]",
      "text/plain": [
       "<Figure size 432x288 with 2 Axes>"
      ]
     },
     "metadata": {
      "needs_background": "light"
     },
     "output_type": "display_data"
    }
   ],
   "source": [
    "# visualizing data\n",
    "\n",
    "# total time spent on screen vs. temperature\n",
    "plt.figure()\n",
    "plt.scatter(dataset_df['Total Time'].sort_values(), dataset_df['Temperature'], marker = 'p', color = 'r', label = 'Temp vs. Tot Time')\n",
    "m, b = stats.linregress(dataset_df['Total Time'].sort_values(), dataset_df['Temperature'])[0:2]\n",
    "plt.plot(dataset_df['Total Time'], m*dataset_df['Total Time'] + b, 'b', label = 'Linear Fit')\n",
    "plt.title('Daily Screen Time Against Temperature')\n",
    "plt.xlabel('Time')\n",
    "plt.ylabel('Temperature')\n",
    "plt.xlim(3, 15)\n",
    "plt.legend()\n",
    "plt.show()\n",
    "\n",
    "# daily most used app vs. number of times used\n",
    "plt.subplot(1, 2, 1)\n",
    "plt.bar(dataset_df['Most Used App'].value_counts().index, dataset_df['Most Used App'].value_counts(), color = 'green')\n",
    "plt.title('Commonly Used Apps')\n",
    "plt.xlabel('App')\n",
    "plt.ylabel('# of Uses')\n",
    "plt.ylim(0, 40)\n",
    "plt.xticks(ticks = np.arange(0, len(dataset_df['Most Used App'].value_counts())), labels = [x for x in dataset_df['Most Used App'].value_counts().index], rotation = 45)\n",
    "\n",
    "# date vs. number of notifications\n",
    "plt.subplot(1, 2, 2)\n",
    "plt.plot(dataset_df.index, dataset_df['App Notifications'], color = 'purple')\n",
    "plt.vlines(dataset_df.index, 0, dataset_df['App Notifications'], color = 'orange', linestyles = 'dashed')\n",
    "plt.title('Daily Notifications')\n",
    "plt.xlabel('Day')\n",
    "plt.ylabel('Alerts')\n",
    "plt.xlim(0, 70)\n",
    "plt.ylim(0, 70)\n",
    "plt.xticks(np.arange(0, len(dataset_df), 10), rotation = 45)\n",
    "\n",
    "# subplot organization\n",
    "plt.tight_layout()\n",
    "plt.show()"
   ]
  },
  {
   "cell_type": "markdown",
   "metadata": {},
   "source": [
    "### Hypothesis Testing\n",
    "\n",
    "As for hypothesis testing, I want to determine my limiting of app notifications at around 35 days of recording data had an effect on the total amount of time I spent on my phone each day. I also want to see if there is a correlation between the first app I used each day and the app with the most notifications (the most activity going on).\n",
    "\n",
    "On the first day of November, 2021, I went through the apps on my phone to limit the notifications each app sent me. I would like to see  \n",
    "whether this action changed the average amount of time I spent on my phone daily.\n",
    "* $H_{o}$ = $\\mu_{before}$ >= $\\mu_{after}$\n",
    "* $H_{1}$ = $\\mu_{before}$ < $\\mu_{after}$ \n",
    "* $\\alpha$ = 0.1\n",
    "* df = $n_1$ + $n_2$ - 2 = 35 + 35 - 2 = 68  \n",
    "* type of t-test: two-sample, one-tailed, dependent\n",
    "* $t_{critical}$ = 1.2941\n",
    "* if $t_{computed}$ < 1.2941, then reject $H_{o}$\n",
    "* if $t_{computed}$ >= 1.2941, then do not reject $H_{1}$\n",
    "\n",
    "I also want to see if the app first used each day corresponds to the app I got the most notifications for each day.\n",
    "* $H_{o}$ = $\\mu_{first}$ != $\\mu_{notified}$\n",
    "* $H_{1}$ = $\\mu_{first}$ == $\\mu_{notified}$\n",
    "* $\\alpha$ = 0.1\n",
    "* df = n - 1 = 70 - 1 = 69\n",
    "* type of t-test: two-sample, two-tailed, independent\n",
    "* $t_{critical}$ = +/-1.6672\n",
    "* if $t_computed$ < -1.6672 or > +1.6672, then reject $H_o$\n",
    "* if $t_computed$ > -1.6672 or < +1.6672, then do not reject $H_o$"
   ]
  },
  {
   "cell_type": "code",
   "execution_count": 5,
   "metadata": {},
   "outputs": [
    {
     "name": "stdout",
     "output_type": "stream",
     "text": [
      "t-computed: 0.2288\n",
      "t-computed: -0.2817\n"
     ]
    }
   ],
   "source": [
    "# hypothesis testing on data\n",
    "\n",
    "before = dataset_df.loc['10/03/2021':'11/06/2021', 'Total Time']\n",
    "after = dataset_df.loc['11/07/2021':'12/11/2021', 'Total Time']\n",
    "\n",
    "# t-test\n",
    "t, p = stats.ttest_rel(after, before)\n",
    "print('t-computed:', round(t, 4))\n",
    "\n",
    "# label encoding\n",
    "coder = LabelEncoder()\n",
    "first_app = coder.fit_transform(dataset_df['First App'])\n",
    "most_notified_app = coder.fit_transform(dataset_df['Most Notified App'])\n",
    "\n",
    "# t-test\n",
    "t, p = stats.ttest_ind(first_app, most_notified_app)\n",
    "print('t-computed:', round(t, 4))"
   ]
  },
  {
   "cell_type": "markdown",
   "metadata": {},
   "source": [
    "### Hypothesis Test Results:  \n",
    "\n",
    "My first hypothesis test revealed that limiting the notifications I received from all apps had no effect on the time I spent on my phone.\n",
    "\n",
    "My second hypothesis test revealed that the first app I used each day correlates to the number of notifications I get each day. That is,  \n",
    "of course, after having encoded the attributes for first app and most notified app to numeric data I can get a mean for."
   ]
  },
  {
   "cell_type": "markdown",
   "metadata": {},
   "source": [
    "## Classification Results:\n",
    "\n",
    "In classification, I am attempting to predict the historical weather condition for each day based on the numeric attributes as they are (meaning without encoding). \n",
    "\n",
    "Given the scatter plot above, I think the conditions may correlate to the decrease in temperature and increase in total screen time.\n",
    "\n",
    "To compare with a kNN classifier, I will also run a Decision Tree Classification. Thus, a comparison can be made on the accuracy that each produces in classifying a correct condition.\n",
    "\n",
    "The classification(s) were challenging due to a low number of instances (e.g. the amount of data was small). My data range only spans back to a month into the semester."
   ]
  },
  {
   "cell_type": "code",
   "execution_count": 6,
   "metadata": {},
   "outputs": [
    {
     "name": "stdout",
     "output_type": "stream",
     "text": [
      "Accuracy of 0.6667 when 4 neighbors are used!\n"
     ]
    }
   ],
   "source": [
    "# kNN classification\n",
    "\n",
    "# set X and y, then encode y\n",
    "conditions = pd.DataFrame(dataset_df.loc[:, 'Conditions'], columns = ['Conditions', 'Encoding'])\n",
    "cond_coded = coder.fit_transform(conditions.iloc[:, 0])\n",
    "conditions['Encoding'] = list(cond_coded)\n",
    "\n",
    "numeric_df = dataset_df.drop(columns = ['Name', 'Conditions', 'Week Day', 'Most Used Category', 'Most Used App',\n",
    "                                        'First Pickup', 'First App', 'Most Notified App', 'Snow', 'Snow Depth',\n",
    "                                        'Precipitation', 'Wind Gust', 'Most Used Time'])\n",
    "\n",
    "# normalize X\n",
    "scaler = MinMaxScaler()\n",
    "X = scaler.fit_transform(numeric_df)\n",
    "y = conditions['Encoding'].values\n",
    "\n",
    "# split into training and testing sets\n",
    "X_train, X_test, y_train, y_test = train_test_split(X, y, test_size = 0.25, random_state = 83)\n",
    "\n",
    "# kNN classifier\n",
    "k = 4\n",
    "kNN_clf = KNeighborsClassifier(n_neighbors = k, metric = 'euclidean')\n",
    "kNN_clf.fit(X_train, y_train)\n",
    "y_pred = kNN_clf.predict(X_test)\n",
    "\n",
    "print('Accuracy of', round(accuracy_score(y_test, y_pred), 4), 'when', k, 'neighbors are used!')"
   ]
  },
  {
   "cell_type": "markdown",
   "metadata": {},
   "source": [
    "### Another Classification For Comparison"
   ]
  },
  {
   "cell_type": "code",
   "execution_count": 7,
   "metadata": {},
   "outputs": [
    {
     "name": "stdout",
     "output_type": "stream",
     "text": [
      "Accuracy of 0.6111\n"
     ]
    }
   ],
   "source": [
    "# decision tree classification\n",
    "\n",
    "# classifier\n",
    "dec_clf = DecisionTreeClassifier(criterion = 'entropy', max_depth = 3, random_state = 0)\n",
    "\n",
    "# train w/ training set\n",
    "dec_clf.fit(X_train, y_train)\n",
    "\n",
    "# test w/ testing set\n",
    "y_predicted = dec_clf.predict(X_test)\n",
    "\n",
    "# print accuracy\n",
    "print('Accuracy of', round(accuracy_score(y_test, y_predicted), 4))"
   ]
  },
  {
   "cell_type": "markdown",
   "metadata": {},
   "source": [
    "## Conclusion\n",
    "\n",
    "For this project I utilized the screen time data on my phone and some weather data from Visual Crossing's Historical Weather API. In the end, I referenced the temperature attributes, time attributes, and wind-related attributes to determine what the weather condition was for each day.\n",
    "\n",
    "As a result of classification, I found that, generally, there is some correlation between the conditions (or weather) outside and the amount of time I spend on my phone. This was determined through the various data classifications that were performed above and resulted in >60% accuracy in determining outdoor weather conditions. Again, the most challenging part about performing these classifications was the amount of data as it was limited to 10 weeks of the Fall 2021 semester. Thus, if I wanted to improve performance I should continue adding daily screen time data. However, another useful action could be to find a more reliable weather API as this one caused some problems in the grand scope of things. \n",
    "\n",
    "For the iPhone users that can be viewed as stakeholders in this project, this project can help point out habits like staying indoors when the weather changed. Or, hopefully, it can be used to decrease the hours one spends on their phone by determining the times when one should put into practice a plan to get off their phone. "
   ]
  }
 ],
 "metadata": {
  "interpreter": {
   "hash": "6e6da3dde3f72c1ff8478d1ad73eae21078da84a9a569ad97d4c0d3e3188d9c9"
  },
  "kernelspec": {
   "display_name": "Python 3.8.8 64-bit ('base': conda)",
   "language": "python",
   "name": "python3"
  },
  "language_info": {
   "codemirror_mode": {
    "name": "ipython",
    "version": 3
   },
   "file_extension": ".py",
   "mimetype": "text/x-python",
   "name": "python",
   "nbconvert_exporter": "python",
   "pygments_lexer": "ipython3",
   "version": "3.8.12"
  },
  "orig_nbformat": 4
 },
 "nbformat": 4,
 "nbformat_minor": 2
}
