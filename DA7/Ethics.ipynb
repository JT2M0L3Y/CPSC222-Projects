{
 "cells": [
  {
   "cell_type": "markdown",
   "metadata": {},
   "source": [
    "# CPSC222 - DA7 Ethics\n",
    "\n",
    "Jonathan Smoley\n",
    "\n",
    "November 30, 2021"
   ]
  },
  {
   "cell_type": "markdown",
   "metadata": {},
   "source": [
    "### Question 1\n",
    "\n",
    ">Provide a summary of the chapter you chose. Have you had (or heard of) experiences similar to O'Neill's examples in the chapter? What do you think can/should be done to prevent WMDs from causing harm in this particular domain?\n",
    "\n",
    "Though it begins with a hook to the effect the numerous dieting plans have on nourishing the population of a given area, Chapter 3 of Weapons of Math Destruction follows a telling of how the higher education WMD is used. How it mirrors characteristics of the machine learning systems currently being studied in CPSC222. As a college student currently serving as an instance of this college ML model, I have had plenty of experience similar to the examples used in this chapter attesting to the use of proxies and classifications that enticed my decision to attend Gonzaga. I agree with the reasoning that colleges appear to be more focused on their U.S. News ranking than a student's education. But to fix that system, I an struggling to find a way that effectively reinitializes the goals of each University while also reducing education prices."
   ]
  },
  {
   "cell_type": "markdown",
   "metadata": {},
   "source": [
    "### Question 2\n",
    "\n",
    ">What else struck you about this chapter?\n",
    "\n",
    "The way O'Neill clearly explained a possible reason for soaring college costs and other-worldly student debt was surprising to me. I have never been able to pinpoint why this specific market saw an extremely exponential type of inflation over the course of half a century of education. Now, all is clear in terms of questioning who and how."
   ]
  },
  {
   "cell_type": "markdown",
   "metadata": {},
   "source": [
    "### Question 3\n",
    "\n",
    ">In the conclusion, O'Neill states that the first step to regulating mathematical models is to begin with the modelers themselves. That's you! In the above exercises you constructed models and used them to make predictions. While models built on the Titanic dataset seem inoccuous, we have to remember that each instance in the dataset represents a person and a feature like Pclass encodes a pesron's socio-economic status. You're also building models that represent yourself for the project. That all being said, do you pledge to the Hippocratic Oath? Like O'Neill, do you have additional terms you think should be added to the Oath?\n",
    "\n",
    "I do pledge to the Hippocratic Oath; not only because both my parents are of medical background and that is how I was raised, but also because data is increasingly malleable as more and more technology reaches high-level proficency for humans. Because Data Scientists are obviously different than Physicians, the Hippocratic Oath should be further catered to an ethical standard of software development and data management more alike to that of the engineering community."
   ]
  },
  {
   "cell_type": "markdown",
   "metadata": {},
   "source": [
    "### Question 4\n",
    "\n",
    ">O'Neill points out that the \"Hippocratic Oath ignores the on-the-ground pressure that data scientists often confront when bosses pushes for specific answers.\" Even if you don't become a \"data scientist\", you are going to be working with data in some form (e.g. careers in finance, marketing, social sciences, etc. all routinely work with data). Consequently, it is very likely that you'll be in a similar situation to what O'Neill describes at some point (sooner than later) in your career. Do you feel your experiences before Gonzaga, at Gonzaga, in this class, and from reading O'Neill's book provided have equipped you with the knowledge and skills to properly handle this situation? In closing, always remember that an \"instance\" in a \"dataset\" is often sampled from a human being, just like you. We are not equal to our data trails.\n",
    "\n",
    "I belive what I have learned so far has equipped me to attempt a situation where the hippocratic oath may be needed for certain ethical reasons. However, I also think that there is much left for me to gain knowledge-wise to confidently and properly tackle the cases described by O'Neill."
   ]
  }
 ],
 "metadata": {
  "interpreter": {
   "hash": "6e6da3dde3f72c1ff8478d1ad73eae21078da84a9a569ad97d4c0d3e3188d9c9"
  },
  "kernelspec": {
   "display_name": "Python 3.8.8 64-bit ('base': conda)",
   "language": "python",
   "name": "python3"
  },
  "language_info": {
   "name": "python",
   "version": "3.8.8"
  },
  "orig_nbformat": 4
 },
 "nbformat": 4,
 "nbformat_minor": 2
}
