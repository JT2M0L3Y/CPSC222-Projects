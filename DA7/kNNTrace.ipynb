{
 "cells": [
  {
   "cell_type": "markdown",
   "metadata": {},
   "source": [
    "# CPSC222 - DA7 kNN Tracing Exercise\n",
    "\n",
    "Jonathan Smoley\n",
    "\n",
    "November 30th, 2021"
   ]
  },
  {
   "cell_type": "code",
   "execution_count": 1,
   "metadata": {},
   "outputs": [],
   "source": [
    "# imported libraries\n",
    "import pandas as pd\n",
    "import math"
   ]
  },
  {
   "cell_type": "markdown",
   "metadata": {},
   "source": [
    "## Organizing Data Into Necessary Lists\n",
    "\n",
    "For this step, I create lists for the columns headers, the training car data, and the testing car data. I input these lists into testing and training DataFrames respectively. Then, I separate the class labels to access the continuous car data for further processing."
   ]
  },
  {
   "cell_type": "code",
   "execution_count": 2,
   "metadata": {},
   "outputs": [],
   "source": [
    "# reading data, separating labels & attributes\n",
    "\n",
    "cols = ['Price','Engine Power','Family Car']\n",
    "\n",
    "train_data = [[7000,310,'no'],[8000,180,'no'],[14000,200,'no'],\n",
    "        [15000,280,'yes'],[20000,250,'yes'],[20000,340,'no'],\n",
    "        [22000,300,'yes'],[25000,260,'yes'],[27000,285,'yes'],\n",
    "        [29000,340,'no'],[30000,210,'no'],[39000,160,'no'],\n",
    "        [40000,245,'no'],[41000,285,'no']]\n",
    "\n",
    "test_data = [[21000,190]]\n",
    "\n",
    "# create dataframe & separate data\n",
    "df = pd.DataFrame(train_data, columns = cols)\n",
    "x_test = pd.DataFrame(test_data, columns = cols[0:2])\n",
    "x_train = df.drop('Family Car', axis = 1)\n",
    "y_train = df['Family Car']"
   ]
  },
  {
   "cell_type": "markdown",
   "metadata": {},
   "source": [
    "## Scaling\n",
    "\n",
    "Because this dataset is in need of scaling, I compute the min and max valus for the price column and the engine power column. After using these values to compute the range, I normalize the training data and the test data into each their own new DataFrame."
   ]
  },
  {
   "cell_type": "code",
   "execution_count": 3,
   "metadata": {},
   "outputs": [],
   "source": [
    "# scaling\n",
    "min_price, min_power = x_train.min()\n",
    "max_price, max_power = x_train.max()\n",
    "\n",
    "range_price = max_price - min_price\n",
    "range_power = max_power - min_power\n",
    "\n",
    "x_train_normalized = pd.DataFrame(columns = ['Price','Engine Power'])\n",
    "\n",
    "for i in range(len(x_train)):\n",
    "    x_train_normalized.loc[i] = [(x_train.iloc[i]['Price'] - min_price) / range_price,\n",
    "                                 (x_train.iloc[i]['Engine Power'] - min_power) / range_power]\n",
    "\n",
    "x_test_normalized = pd.DataFrame(columns = ['Price','Engine Power'])\n",
    "\n",
    "for i in range(len(x_test)):\n",
    "    x_test_normalized.loc[i] = [(x_test.iloc[i]['Price'] - min_price) / range_price,\n",
    "                                 (x_test.iloc[i]['Engine Power'] - min_power) / range_power]"
   ]
  },
  {
   "cell_type": "markdown",
   "metadata": {},
   "source": [
    "## Classification\n",
    "\n",
    "Finally, I manually classify the test instance by computing which class label is in the majority for the test instance's 5 closest neighbors. A number which was given in the exercise prompt for k in a kNN classification."
   ]
  },
  {
   "cell_type": "code",
   "execution_count": 4,
   "metadata": {},
   "outputs": [
    {
     "name": "stdout",
     "output_type": "stream",
     "text": [
      "2      no\n",
      "10     no\n",
      "4     yes\n",
      "1      no\n",
      "7     yes\n",
      "Name: Family Car, dtype: object\n"
     ]
    }
   ],
   "source": [
    "# copmute the majority class label\n",
    "distances = pd.DataFrame(columns = ['Index', 'Distances'])\n",
    "\n",
    "for i in range(len(x_train_normalized)):\n",
    "    price_dist = (x_train_normalized.iloc[i]['Price'] - x_test_normalized.iloc[0]['Price'])**2\n",
    "    power_dist = (x_train_normalized.iloc[i]['Engine Power'] - x_test_normalized.iloc[0]['Engine Power'])**2\n",
    "    distances.loc[i] = [i, math.sqrt(price_dist + power_dist)]\n",
    "\n",
    "k_nums = distances.nsmallest(5, 'Distances', keep = 'first')\n",
    "\n",
    "labels = pd.Series(y_train.iloc[k_nums['Index'].tolist()])\n",
    "\n",
    "print(labels)"
   ]
  },
  {
   "cell_type": "markdown",
   "metadata": {},
   "source": [
    "## Result\n",
    "\n",
    "Based on the manual computation of the 5 (k=5) closest neighbors of the test instance, I would classify the test instance as **NO**. Meaning, the test instance is not a family car."
   ]
  }
 ],
 "metadata": {
  "interpreter": {
   "hash": "6e6da3dde3f72c1ff8478d1ad73eae21078da84a9a569ad97d4c0d3e3188d9c9"
  },
  "kernelspec": {
   "display_name": "Python 3.8.8 64-bit ('base': conda)",
   "language": "python",
   "name": "python3"
  },
  "language_info": {
   "codemirror_mode": {
    "name": "ipython",
    "version": 3
   },
   "file_extension": ".py",
   "mimetype": "text/x-python",
   "name": "python",
   "nbconvert_exporter": "python",
   "pygments_lexer": "ipython3",
   "version": "3.8.12"
  },
  "orig_nbformat": 4
 },
 "nbformat": 4,
 "nbformat_minor": 2
}
