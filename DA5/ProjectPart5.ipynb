{
 "cells": [
  {
   "cell_type": "markdown",
   "id": "fc2b5d39",
   "metadata": {},
   "source": [
    "# CPSC 222 DA5 - Project Part 5\n",
    "\n",
    "[Gonzaga University](https://www.gonzaga.edu/)\n",
    "\n",
    "Jonathan Smoley\n",
    "\n",
    "October 29, 2021"
   ]
  },
  {
   "cell_type": "markdown",
   "metadata": {},
   "source": [
    "## Imported Libraries\n",
    "A *utils.py* file was used to store libraries and functions used in this notebook. However, I did  \n",
    "implement the `importlib` trick so this utils file is newly loaded each time the cell is run."
   ]
  },
  {
   "cell_type": "code",
   "execution_count": 108,
   "metadata": {},
   "outputs": [
    {
     "data": {
      "text/plain": [
       "<module 'utils' from 'c:\\\\Users\\\\jtsmo\\\\OneDrive - Gonzaga University\\\\Fall 2021\\\\CPSC222\\\\DA5\\\\utils.py'>"
      ]
     },
     "execution_count": 108,
     "metadata": {},
     "output_type": "execute_result"
    }
   ],
   "source": [
    "import importlib\n",
    "import utils\n",
    "\n",
    "importlib.reload(utils)"
   ]
  },
  {
   "cell_type": "markdown",
   "metadata": {},
   "source": [
    "## Describe the Dataset\n",
    "For this assignment, I have chosen the screen time or usage data from my iPhone. Data  \n",
    "collection is still going on, but I plan to have two months worth of data in my final  \n",
    "dataset. Within the dataset time can be used as an index for attributes of usage time in  \n",
    "terms of categories and the most used app. Also, there are attributes for amount of times  \n",
    "I picked up my phone as well as notification counts for each day."
   ]
  },
  {
   "cell_type": "markdown",
   "metadata": {},
   "source": [
    "## Load the Dataset\n",
    "In order to load the dataset into a pandas DataFrame I used a function by  \n",
    "passing in a filename to read data from and loading that data into a new  \n",
    "DataFrame. Then I return the new DataFrame to a local variable."
   ]
  },
  {
   "cell_type": "code",
   "execution_count": 109,
   "metadata": {},
   "outputs": [],
   "source": [
    "file_name = \"screen_time.csv\"\n",
    "\n",
    "data_df = utils.load_data(file_name)"
   ]
  },
  {
   "cell_type": "markdown",
   "metadata": {},
   "source": [
    "## Data Cleaning\n",
    "In this dataset, there are some empty columns at the end that need to be dropped and (for now)  \n",
    "some rows at the bottom that do not yet have data and need to be deleted as well. To accomplish  \n",
    "this I used the `dropna()` pandas member function. While it is not ideal to delete values with  \n",
    "such a small dataset, it is the case that I am manually making this set and just do not have data  \n",
    "to fill in yet. Moreover, the ideal way to solve this would be to fill the empty spaces with the  \n",
    "value `np.NaN`."
   ]
  },
  {
   "cell_type": "code",
   "execution_count": 110,
   "metadata": {},
   "outputs": [],
   "source": [
    "clean_data_df = utils.clean_data(data_df)"
   ]
  },
  {
   "cell_type": "markdown",
   "metadata": {},
   "source": [
    "## Plot Data\n",
    "To plot data from my data set, I am using the columns that break down how I spent my screen  \n",
    "time. In other words, what kinds of content I was absorbing each day in the use of my phone.  \n",
    "In terms of different charts to use I could use a pie chart and display slices of each of the  \n",
    "categories of apps I used during the day. But that plot would be limited to data from a single  \n",
    "day. To meet the requirements of this assignment, I used the date index and daily notifications."
   ]
  },
  {
   "cell_type": "code",
   "execution_count": 111,
   "metadata": {},
   "outputs": [
    {
     "data": {
      "image/png": "[encoded data removed]",
      "text/plain": [
       "<Figure size 432x288 with 1 Axes>"
      ]
     },
     "metadata": {
      "needs_background": "light"
     },
     "output_type": "display_data"
    }
   ],
   "source": [
    "utils.display_data(clean_data_df)"
   ]
  }
 ],
 "metadata": {
  "interpreter": {
   "hash": "6e6da3dde3f72c1ff8478d1ad73eae21078da84a9a569ad97d4c0d3e3188d9c9"
  },
  "kernelspec": {
   "display_name": "Python 3.8.8 64-bit ('base': conda)",
   "name": "python3"
  },
  "language_info": {
   "codemirror_mode": {
    "name": "ipython",
    "version": 3
   },
   "file_extension": ".py",
   "mimetype": "text/x-python",
   "name": "python",
   "nbconvert_exporter": "python",
   "pygments_lexer": "ipython3",
   "version": "3.8.8"
  }
 },
 "nbformat": 4,
 "nbformat_minor": 5
}
