{
 "cells": [
  {
   "cell_type": "markdown",
   "metadata": {},
   "source": [
    "# CPSC 222 DA5 - Ethics\n",
    "\n",
    "[Gonzaga University](https://www.gonzaga.edu/)\n",
    "\n",
    "Jonathan Smoley\n",
    "\n",
    "October 31, 2021"
   ]
  },
  {
   "cell_type": "markdown",
   "metadata": {},
   "source": [
    "## Question 1\n",
    ">Toward the beginning of the documentary, viewers are presented with the idea that social media sells our attention to advertisers  \n",
    "to make their profits. The quote that best summarizes this business model is, \"If you’re not paying for the product, then you are  \n",
    "the product.\" How do you feel about selling your attention to use the products for free? Are there short and long term effects that  \n",
    "we can/cannot foresee?\n",
    "\n",
    "### Response 1\n",
    "\n",
    "Personally, I do not want to be a *product*. However, I seem to have no choice if I want to stay \"connected\" to friends over the  \n",
    "internet. I would pay, and I do pay, to stay connected with friends and family through a service that does not market my attention.  \n",
    "By 'I do pay\" I am speaking on the cellular plan that allows me to send text messages. This serivce doesn't push adds my direction,  \n",
    "it only exists within an app dedicated to communication over the internet. The issue is that I do not have phone numbers for each  \n",
    "person I wish to contact. Therefore, I have to fall back on social media. I see short term effects similar to the destruction of a  \n",
    "real-world routine to keep a person living. With long term effects, I see a situation like in the book and movie Ready Player One where  \n",
    "people abandon the real world for a virtual one that strictly caters to someone's desires."
   ]
  },
  {
   "cell_type": "markdown",
   "metadata": {},
   "source": [
    "## Question 2\n",
    ">Tristan Harris states, \"On the other side of the screen, it’s almost as if they had this avatar voodoo doll-like model of us. All  \n",
    "of the things we've ever done, all the clicks we’ve ever made, all the videos we’ve watched, all the likes, that all gets brought  \n",
    "back into building a more and more accurate model. The model, once you have it, you can predict the kinds of things that person  \n",
    "does.\" He then states that tech companies have three main goals: engagement (drive up your usage), growth (keep you coming back  \n",
    "and inviting friends), and advertising (making as much money as possible from advertising). Are there ethical lines that companies  \n",
    "should not cross in order to achieve these three goals? Do you feel that the \"avatar voodoo doll-like model of us\" crosses these lines?  \n",
    "Why or why not?\n",
    "\n",
    "### Response 2\n",
    "Certainly there are ethical lines that should not be crossed when dealing with these goals. For **Engagement** the amount that someone  \n",
    "uses a company's prodcut should be determined by the user and should be increased and decreased according to the user alone. The goal  \n",
    "for **Growth** is currently reached by notifying users of activity related to the company's product. While I think it is useful to be  \n",
    "notified of changes in something one is involved in, I think the level at which notifications are used is ethically concerning. Finally,  \n",
    "the **Advertising** goal is the most ethically flawed due to the personalization of ads in the past few years. I believe this to be a  \n",
    "complete breach of privacy, advertising should not cross the threshold of *personalization* to stay ethical. Considering these ideas,  \n",
    "I do also see the 'avatar voodoo doll-like model' as having crossed the line. The way this was depicted in the documentary did not help  \n",
    "this thinking. Forcing users into this model reduces the humanity of the user. In a sense, through the use of this model, the creators,  \n",
    "as well as the AI machines, forget that the user exists in real-time and has a life outside of the product."
   ]
  },
  {
   "cell_type": "markdown",
   "metadata": {},
   "source": [
    "## Question 3\n",
    ">How do you feel about persuasive technology (e.g. programming of the \"the positive intermittent reinforcement\", AKA the slot machine)?  \n",
    "As humans, are we able to differentiate between our original thoughts and ones that are \"planted\" unconsciously by persuasive technology?\n",
    "\n",
    "### Response 3\n",
    "I have never condoned gambling and I never plan to. As such, persuasive technology fits right up against the addition of gambling from my  \n",
    "point of view. I cannot say that I am exempt from this need for positive intermittent reinforement, at least in other sections of my life,  \n",
    "but I find it incredibly angering that social media users feel a need to be reminded of their worth based on this persuasive technology's  \n",
    "view of each user. This is so much the case, that it seems we as humans are no longer capable of distinguishing between the emotions given  \n",
    "to us and the emotions we generate ourselves."
   ]
  },
  {
   "cell_type": "markdown",
   "metadata": {},
   "source": [
    "## Question 4\n",
    ">What else struck you about this documentary?\n",
    "\n",
    "## Response 4\n",
    "I went on and finished the entire documentary. I did not come across any new grievances or striking ideas beyond what I have already shared above."
   ]
  }
 ],
 "metadata": {
  "interpreter": {
   "hash": "6e6da3dde3f72c1ff8478d1ad73eae21078da84a9a569ad97d4c0d3e3188d9c9"
  },
  "kernelspec": {
   "display_name": "Python 3.8.8 64-bit ('base': conda)",
   "name": "python3"
  },
  "language_info": {
   "name": "python",
   "version": "3.8.8"
  },
  "orig_nbformat": 4
 },
 "nbformat": 4,
 "nbformat_minor": 2
}
